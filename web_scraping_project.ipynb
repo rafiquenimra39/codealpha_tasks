{
 "cells": [
  {
   "cell_type": "code",
   "execution_count": null,
   "id": "4390dda6-9ac7-4db1-8b87-1a97ab2958d8",
   "metadata": {},
   "outputs": [],
   "source": []
  }
 ],
 "metadata": {
  "kernelspec": {
   "display_name": "",
   "name": ""
  },
  "language_info": {
   "name": ""
  }
 },
 "nbformat": 4,
 "nbformat_minor": 5
}
